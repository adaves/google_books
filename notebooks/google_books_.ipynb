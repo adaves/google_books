{
 "cells": [
  {
   "cell_type": "markdown",
   "metadata": {},
   "source": [
    "# Problem Statement\n",
    "With the vast amount of books available in the Google Books dataset, it can be challenging for publishers or platforms to predict the potential popularity of a book. By leveraging machine learning, I aim to predict the Average Rating of a book based on its metadata (e.g., title, authors, publisher, categories, etc.). This can help publishers better understand what factors contribute to a book's success and guide decisions in marketing or acquisitions.\n",
    "\n",
    "### Machine Learning Goal\n",
    "To build a predictive model that estimates a book's Average Rating using its metadata features."
   ]
  },
  {
   "cell_type": "code",
   "execution_count": 1,
   "metadata": {},
   "outputs": [],
   "source": [
    "# import\n",
    "import pandas as pd\n",
    "import numpy as np\n",
    "import matplotlib.pyplot as plt\n",
    "import seaborn as sns\n",
    "\n",
    "import os\n",
    "import fnmatch\n",
    "\n",
    "# from library.sb_utils import save_file\n"
   ]
  },
  {
   "cell_type": "code",
   "execution_count": 2,
   "metadata": {},
   "outputs": [],
   "source": [
    "# write a function to look for downloaded data\n",
    "# the function should look for data and load it into a dataframe\n",
    "\n",
    "def load_data(directory, search_string):\n",
    "    # dictionary to store matching file paths\n",
    "    dataframes = {}\n",
    "    counter = 1\n",
    "    \n",
    "    # walk through the directort and its subdirectories\n",
    "    for root, dirs, files in os.walk(directory):\n",
    "        for file in files:\n",
    "            # check if the file name contains the search_string\n",
    "            if fnmatch.fnmatch(file.lower(), f\"*{search_string.lower()}*\"):\n",
    "                # load each file into a dataframe\n",
    "                df = pd.read_csv(os.path.join(root, file))\n",
    "                \n",
    "                # dynamically name each dataframe\n",
    "                dataframes[f'df_{counter}'] = df\n",
    "\n",
    "                # increment counter\n",
    "                counter += 1\n",
    "\n",
    "    return dataframes"
   ]
  },
  {
   "cell_type": "code",
   "execution_count": 3,
   "metadata": {},
   "outputs": [],
   "source": [
    "path = r'C:\\Users\\adame\\OneDrive\\Desktop\\python_scripts\\data_projects\\google_books'\n",
    "file_name = 'random_books'\n",
    "dataframes_dict = load_data(path, file_name)"
   ]
  },
  {
   "cell_type": "code",
   "execution_count": 4,
   "metadata": {},
   "outputs": [
    {
     "data": {
      "text/plain": [
       "(180995, 10)"
      ]
     },
     "execution_count": 4,
     "metadata": {},
     "output_type": "execute_result"
    }
   ],
   "source": [
    "# Assuming dataframes_dict contains your DataFrames\n",
    "dataframes = list(dataframes_dict.values())  # Extract all DataFrames from the dictionary\n",
    "\n",
    "# Concatenate all DataFrames vertically\n",
    "combined_df = pd.concat(dataframes, ignore_index=True)\n",
    "\n",
    "combined_df.shape"
   ]
  },
  {
   "cell_type": "code",
   "execution_count": 5,
   "metadata": {},
   "outputs": [
    {
     "name": "stdout",
     "output_type": "stream",
     "text": [
      "<class 'pandas.core.frame.DataFrame'>\n",
      "RangeIndex: 180995 entries, 0 to 180994\n",
      "Data columns (total 10 columns):\n",
      " #   Column         Non-Null Count   Dtype  \n",
      "---  ------         --------------   -----  \n",
      " 0   Title          180969 non-null  object \n",
      " 1   Authors        124322 non-null  object \n",
      " 2   Publisher      86013 non-null   object \n",
      " 3   PublishedDate  179505 non-null  object \n",
      " 4   ISBN           94380 non-null   float64\n",
      " 5   PageCount      177863 non-null  float64\n",
      " 6   Categories     125108 non-null  object \n",
      " 7   AverageRating  32889 non-null   float64\n",
      " 8   RatingsCount   32889 non-null   float64\n",
      " 9   Language       180995 non-null  object \n",
      "dtypes: float64(4), object(6)\n",
      "memory usage: 13.8+ MB\n"
     ]
    }
   ],
   "source": [
    "combined_df.info()"
   ]
  },
  {
   "cell_type": "markdown",
   "metadata": {},
   "source": [
    "Well! A lot of books were fetched, but some of these columns have a lot of missing data. \n",
    "\n",
    "These columns will be important to the model training. The missing data will have to be dropped."
   ]
  },
  {
   "cell_type": "markdown",
   "metadata": {},
   "source": [
    "## Explore the data"
   ]
  },
  {
   "cell_type": "code",
   "execution_count": 6,
   "metadata": {},
   "outputs": [
    {
     "data": {
      "text/html": [
       "<div>\n",
       "<style scoped>\n",
       "    .dataframe tbody tr th:only-of-type {\n",
       "        vertical-align: middle;\n",
       "    }\n",
       "\n",
       "    .dataframe tbody tr th {\n",
       "        vertical-align: top;\n",
       "    }\n",
       "\n",
       "    .dataframe thead th {\n",
       "        text-align: right;\n",
       "    }\n",
       "</style>\n",
       "<table border=\"1\" class=\"dataframe\">\n",
       "  <thead>\n",
       "    <tr style=\"text-align: right;\">\n",
       "      <th></th>\n",
       "      <th>Title</th>\n",
       "      <th>Authors</th>\n",
       "      <th>Publisher</th>\n",
       "      <th>PublishedDate</th>\n",
       "      <th>ISBN</th>\n",
       "      <th>PageCount</th>\n",
       "      <th>Categories</th>\n",
       "      <th>AverageRating</th>\n",
       "      <th>RatingsCount</th>\n",
       "      <th>Language</th>\n",
       "    </tr>\n",
       "  </thead>\n",
       "  <tbody>\n",
       "    <tr>\n",
       "      <th>0</th>\n",
       "      <td>The Berenstains' B Book</td>\n",
       "      <td>Stan Berenstain, Jan Berenstain</td>\n",
       "      <td>Random House Books for Young Readers</td>\n",
       "      <td>1971</td>\n",
       "      <td>NaN</td>\n",
       "      <td>36.0</td>\n",
       "      <td>Juvenile Nonfiction</td>\n",
       "      <td>NaN</td>\n",
       "      <td>NaN</td>\n",
       "      <td>en</td>\n",
       "    </tr>\n",
       "    <tr>\n",
       "      <th>1</th>\n",
       "      <td>B, Book, and Me</td>\n",
       "      <td>Sa-gwa Kim</td>\n",
       "      <td>NaN</td>\n",
       "      <td>2020</td>\n",
       "      <td>9.781932e+12</td>\n",
       "      <td>0.0</td>\n",
       "      <td>Young Adult Fiction</td>\n",
       "      <td>NaN</td>\n",
       "      <td>NaN</td>\n",
       "      <td>en</td>\n",
       "    </tr>\n",
       "    <tr>\n",
       "      <th>2</th>\n",
       "      <td>Option B</td>\n",
       "      <td>Sheryl Sandberg, Adam Grant</td>\n",
       "      <td>Knopf</td>\n",
       "      <td>2017-04-24</td>\n",
       "      <td>9.781525e+12</td>\n",
       "      <td>241.0</td>\n",
       "      <td>Biography &amp; Autobiography</td>\n",
       "      <td>NaN</td>\n",
       "      <td>NaN</td>\n",
       "      <td>en</td>\n",
       "    </tr>\n",
       "    <tr>\n",
       "      <th>3</th>\n",
       "      <td>My 'o' Sound Box</td>\n",
       "      <td>Jane Belk Moncure</td>\n",
       "      <td>Jane Belk Moncure Collection</td>\n",
       "      <td>2018-08</td>\n",
       "      <td>9.781504e+12</td>\n",
       "      <td>0.0</td>\n",
       "      <td>Alphabet</td>\n",
       "      <td>NaN</td>\n",
       "      <td>NaN</td>\n",
       "      <td>en</td>\n",
       "    </tr>\n",
       "    <tr>\n",
       "      <th>4</th>\n",
       "      <td>XOM-B</td>\n",
       "      <td>Jeremy Robinson</td>\n",
       "      <td>Macmillan</td>\n",
       "      <td>2014-04-29</td>\n",
       "      <td>9.781250e+12</td>\n",
       "      <td>353.0</td>\n",
       "      <td>Fiction</td>\n",
       "      <td>NaN</td>\n",
       "      <td>NaN</td>\n",
       "      <td>en</td>\n",
       "    </tr>\n",
       "  </tbody>\n",
       "</table>\n",
       "</div>"
      ],
      "text/plain": [
       "                     Title                          Authors  \\\n",
       "0  The Berenstains' B Book  Stan Berenstain, Jan Berenstain   \n",
       "1          B, Book, and Me                       Sa-gwa Kim   \n",
       "2                 Option B      Sheryl Sandberg, Adam Grant   \n",
       "3         My 'o' Sound Box                Jane Belk Moncure   \n",
       "4                    XOM-B                  Jeremy Robinson   \n",
       "\n",
       "                              Publisher PublishedDate          ISBN  \\\n",
       "0  Random House Books for Young Readers          1971           NaN   \n",
       "1                                   NaN          2020  9.781932e+12   \n",
       "2                                 Knopf    2017-04-24  9.781525e+12   \n",
       "3          Jane Belk Moncure Collection       2018-08  9.781504e+12   \n",
       "4                             Macmillan    2014-04-29  9.781250e+12   \n",
       "\n",
       "   PageCount                 Categories  AverageRating  RatingsCount Language  \n",
       "0       36.0        Juvenile Nonfiction            NaN           NaN       en  \n",
       "1        0.0        Young Adult Fiction            NaN           NaN       en  \n",
       "2      241.0  Biography & Autobiography            NaN           NaN       en  \n",
       "3        0.0                   Alphabet            NaN           NaN       en  \n",
       "4      353.0                    Fiction            NaN           NaN       en  "
      ]
     },
     "execution_count": 6,
     "metadata": {},
     "output_type": "execute_result"
    }
   ],
   "source": [
    "combined_df.head()"
   ]
  },
  {
   "cell_type": "markdown",
   "metadata": {},
   "source": [
    "### Inspect missing values"
   ]
  },
  {
   "cell_type": "code",
   "execution_count": 7,
   "metadata": {},
   "outputs": [
    {
     "data": {
      "image/png": "[encoded data removed]",
      "text/plain": [
       "<Figure size 1000x600 with 1 Axes>"
      ]
     },
     "metadata": {},
     "output_type": "display_data"
    }
   ],
   "source": [
    "# check for missing values, simple histogram of counts of missing values in each column\n",
    "combined_df.isna().sum().plot(kind='bar',\n",
    "                              title='Count of missing values in each column',\n",
    "                              xlabel='Columns',\n",
    "                              ylabel='Count of missing values',\n",
    "                              figsize=(10, 6),\n",
    "                              color='skyblue',\n",
    "                              rot=45,\n",
    "                              fontsize=12)\n",
    "plt.show()"
   ]
  },
  {
   "cell_type": "code",
   "execution_count": 8,
   "metadata": {},
   "outputs": [],
   "source": [
    "# drop all missing values\n",
    "combined_df.dropna(inplace=True)"
   ]
  },
  {
   "cell_type": "code",
   "execution_count": 9,
   "metadata": {},
   "outputs": [],
   "source": [
    "# change `PageCount`` to integer, instead of float\n",
    "combined_df['PageCount'] = combined_df['PageCount'].astype(int)\n",
    "\n",
    "# change `RatingsCount` to integer, instead of float\n",
    "combined_df['RatingsCount'] = combined_df['RatingsCount'].astype(int)\n",
    "\n",
    "# change `ISBN` to object, instead of float\n",
    "combined_df['ISBN'] = combined_df['ISBN'].astype(object)\n",
    "# remove '.0' from `ISBN` column\n",
    "combined_df['ISBN'] = combined_df['ISBN'].apply(lambda x: str(x).replace('.0', ''))"
   ]
  },
  {
   "cell_type": "code",
   "execution_count": 10,
   "metadata": {},
   "outputs": [],
   "source": [
    "# drop rows with 'PageCount' == 0\n",
    "zero_pages = combined_df[combined_df['PageCount'] == 0]\n",
    "combined_df.drop(zero_pages.index, inplace=True)"
   ]
  },
  {
   "cell_type": "markdown",
   "metadata": {},
   "source": [
    "### Inspect the `PublishedDate` column"
   ]
  },
  {
   "cell_type": "code",
   "execution_count": 11,
   "metadata": {},
   "outputs": [
    {
     "data": {
      "text/plain": [
       "False"
      ]
     },
     "execution_count": 11,
     "metadata": {},
     "output_type": "execute_result"
    }
   ],
   "source": [
    "# check that all published dates are the same format, and have YYYY-MM-DD, I think some have only YYYY\n",
    "combined_df['PublishedDate'].astype(str).str.contains(r'\\d{4}-\\d{2}-\\d{2}').all()"
   ]
  },
  {
   "cell_type": "code",
   "execution_count": 12,
   "metadata": {},
   "outputs": [
    {
     "data": {
      "text/plain": [
       "3134"
      ]
     },
     "execution_count": 12,
     "metadata": {},
     "output_type": "execute_result"
    }
   ],
   "source": [
    "# find all rows with only year in the 'PublishedDate' column\n",
    "year_only = combined_df['PublishedDate'].str.match(r'^\\d{4}$')\n",
    "year_only.sum()"
   ]
  },
  {
   "cell_type": "code",
   "execution_count": 13,
   "metadata": {},
   "outputs": [],
   "source": [
    "# add '-01-01' to the end of the year only rows\n",
    "combined_df.loc[year_only, 'PublishedDate'] = combined_df.loc[year_only, 'PublishedDate'] + '-01-01'"
   ]
  },
  {
   "cell_type": "code",
   "execution_count": 14,
   "metadata": {},
   "outputs": [],
   "source": [
    "# convert the PublishedDate column to datetime\n",
    "combined_df['PublishedDate'] = pd.to_datetime(combined_df['PublishedDate'], errors='coerce')"
   ]
  },
  {
   "cell_type": "code",
   "execution_count": 15,
   "metadata": {},
   "outputs": [
    {
     "data": {
      "image/png": "[encoded data removed]",
      "text/plain": [
       "<Figure size 1200x600 with 1 Axes>"
      ]
     },
     "metadata": {},
     "output_type": "display_data"
    }
   ],
   "source": [
    "# check the distribution of books published by year\n",
    "combined_df['PublishedDate'].dt.year.value_counts().sort_index().plot(kind='bar', figsize=(12, 6), color='skyblue', rot=45)\n",
    "plt.title('Count of books published by year')\n",
    "plt.xlabel('Year')\n",
    "plt.ylabel('Count of books')\n",
    "plt.show()"
   ]
  },
  {
   "cell_type": "markdown",
   "metadata": {},
   "source": [
    "### Look for duplicates"
   ]
  },
  {
   "cell_type": "code",
   "execution_count": 16,
   "metadata": {},
   "outputs": [
    {
     "data": {
      "text/plain": [
       "20952"
      ]
     },
     "execution_count": 16,
     "metadata": {},
     "output_type": "execute_result"
    }
   ],
   "source": [
    "combined_df.duplicated().sum()"
   ]
  },
  {
   "cell_type": "code",
   "execution_count": 17,
   "metadata": {},
   "outputs": [
    {
     "data": {
      "text/plain": [
       "ISBN\n",
       "9780062457738    137\n",
       "9781465457752    106\n",
       "9780399588594    104\n",
       "9780230553897    103\n",
       "9780804172707     97\n",
       "                ... \n",
       "9780545649469      1\n",
       "9781933967561      1\n",
       "9780811853620      1\n",
       "9781450065443      1\n",
       "9781441228819      1\n",
       "Name: count, Length: 1789, dtype: int64"
      ]
     },
     "execution_count": 17,
     "metadata": {},
     "output_type": "execute_result"
    }
   ],
   "source": [
    "# huh, this cant be right, ill investigate\n",
    "combined_df['ISBN'].value_counts()"
   ]
  },
  {
   "cell_type": "code",
   "execution_count": 18,
   "metadata": {},
   "outputs": [
    {
     "data": {
      "text/html": [
       "<div>\n",
       "<style scoped>\n",
       "    .dataframe tbody tr th:only-of-type {\n",
       "        vertical-align: middle;\n",
       "    }\n",
       "\n",
       "    .dataframe tbody tr th {\n",
       "        vertical-align: top;\n",
       "    }\n",
       "\n",
       "    .dataframe thead th {\n",
       "        text-align: right;\n",
       "    }\n",
       "</style>\n",
       "<table border=\"1\" class=\"dataframe\">\n",
       "  <thead>\n",
       "    <tr style=\"text-align: right;\">\n",
       "      <th></th>\n",
       "      <th>Title</th>\n",
       "      <th>Authors</th>\n",
       "      <th>Publisher</th>\n",
       "      <th>PublishedDate</th>\n",
       "      <th>ISBN</th>\n",
       "      <th>PageCount</th>\n",
       "      <th>Categories</th>\n",
       "      <th>AverageRating</th>\n",
       "      <th>RatingsCount</th>\n",
       "      <th>Language</th>\n",
       "    </tr>\n",
       "  </thead>\n",
       "  <tbody>\n",
       "    <tr>\n",
       "      <th>13734</th>\n",
       "      <td>The Subtle Art of Not Giving a F*ck</td>\n",
       "      <td>Mark Manson</td>\n",
       "      <td>HarperCollins</td>\n",
       "      <td>2016-09-13</td>\n",
       "      <td>9780062457738</td>\n",
       "      <td>197</td>\n",
       "      <td>Self-Help</td>\n",
       "      <td>4.0</td>\n",
       "      <td>17</td>\n",
       "      <td>en</td>\n",
       "    </tr>\n",
       "    <tr>\n",
       "      <th>14874</th>\n",
       "      <td>The Subtle Art of Not Giving a F*ck</td>\n",
       "      <td>Mark Manson</td>\n",
       "      <td>HarperCollins</td>\n",
       "      <td>2016-09-13</td>\n",
       "      <td>9780062457738</td>\n",
       "      <td>197</td>\n",
       "      <td>Self-Help</td>\n",
       "      <td>4.0</td>\n",
       "      <td>17</td>\n",
       "      <td>en</td>\n",
       "    </tr>\n",
       "    <tr>\n",
       "      <th>30647</th>\n",
       "      <td>The Subtle Art of Not Giving a F*ck</td>\n",
       "      <td>Mark Manson</td>\n",
       "      <td>HarperCollins</td>\n",
       "      <td>2016-09-13</td>\n",
       "      <td>9780062457738</td>\n",
       "      <td>197</td>\n",
       "      <td>Self-Help</td>\n",
       "      <td>4.0</td>\n",
       "      <td>17</td>\n",
       "      <td>en</td>\n",
       "    </tr>\n",
       "    <tr>\n",
       "      <th>30708</th>\n",
       "      <td>The Subtle Art of Not Giving a F*ck</td>\n",
       "      <td>Mark Manson</td>\n",
       "      <td>HarperCollins</td>\n",
       "      <td>2016-09-13</td>\n",
       "      <td>9780062457738</td>\n",
       "      <td>197</td>\n",
       "      <td>Self-Help</td>\n",
       "      <td>4.0</td>\n",
       "      <td>17</td>\n",
       "      <td>en</td>\n",
       "    </tr>\n",
       "    <tr>\n",
       "      <th>30727</th>\n",
       "      <td>The Subtle Art of Not Giving a F*ck</td>\n",
       "      <td>Mark Manson</td>\n",
       "      <td>HarperCollins</td>\n",
       "      <td>2016-09-13</td>\n",
       "      <td>9780062457738</td>\n",
       "      <td>197</td>\n",
       "      <td>Self-Help</td>\n",
       "      <td>4.0</td>\n",
       "      <td>17</td>\n",
       "      <td>en</td>\n",
       "    </tr>\n",
       "    <tr>\n",
       "      <th>...</th>\n",
       "      <td>...</td>\n",
       "      <td>...</td>\n",
       "      <td>...</td>\n",
       "      <td>...</td>\n",
       "      <td>...</td>\n",
       "      <td>...</td>\n",
       "      <td>...</td>\n",
       "      <td>...</td>\n",
       "      <td>...</td>\n",
       "      <td>...</td>\n",
       "    </tr>\n",
       "    <tr>\n",
       "      <th>180860</th>\n",
       "      <td>The Subtle Art of Not Giving a F*ck</td>\n",
       "      <td>Mark Manson</td>\n",
       "      <td>HarperCollins</td>\n",
       "      <td>2016-09-13</td>\n",
       "      <td>9780062457738</td>\n",
       "      <td>197</td>\n",
       "      <td>Self-Help</td>\n",
       "      <td>4.0</td>\n",
       "      <td>17</td>\n",
       "      <td>en</td>\n",
       "    </tr>\n",
       "    <tr>\n",
       "      <th>180931</th>\n",
       "      <td>The Subtle Art of Not Giving a F*ck</td>\n",
       "      <td>Mark Manson</td>\n",
       "      <td>HarperCollins</td>\n",
       "      <td>2016-09-13</td>\n",
       "      <td>9780062457738</td>\n",
       "      <td>197</td>\n",
       "      <td>Self-Help</td>\n",
       "      <td>4.0</td>\n",
       "      <td>17</td>\n",
       "      <td>en</td>\n",
       "    </tr>\n",
       "    <tr>\n",
       "      <th>180948</th>\n",
       "      <td>The Subtle Art of Not Giving a F*ck</td>\n",
       "      <td>Mark Manson</td>\n",
       "      <td>HarperCollins</td>\n",
       "      <td>2016-09-13</td>\n",
       "      <td>9780062457738</td>\n",
       "      <td>197</td>\n",
       "      <td>Self-Help</td>\n",
       "      <td>4.0</td>\n",
       "      <td>17</td>\n",
       "      <td>en</td>\n",
       "    </tr>\n",
       "    <tr>\n",
       "      <th>180963</th>\n",
       "      <td>The Subtle Art of Not Giving a F*ck</td>\n",
       "      <td>Mark Manson</td>\n",
       "      <td>HarperCollins</td>\n",
       "      <td>2016-09-13</td>\n",
       "      <td>9780062457738</td>\n",
       "      <td>197</td>\n",
       "      <td>Self-Help</td>\n",
       "      <td>4.0</td>\n",
       "      <td>17</td>\n",
       "      <td>en</td>\n",
       "    </tr>\n",
       "    <tr>\n",
       "      <th>180985</th>\n",
       "      <td>The Subtle Art of Not Giving a F*ck</td>\n",
       "      <td>Mark Manson</td>\n",
       "      <td>HarperCollins</td>\n",
       "      <td>2016-09-13</td>\n",
       "      <td>9780062457738</td>\n",
       "      <td>197</td>\n",
       "      <td>Self-Help</td>\n",
       "      <td>4.0</td>\n",
       "      <td>17</td>\n",
       "      <td>en</td>\n",
       "    </tr>\n",
       "  </tbody>\n",
       "</table>\n",
       "<p>137 rows × 10 columns</p>\n",
       "</div>"
      ],
      "text/plain": [
       "                                      Title      Authors      Publisher  \\\n",
       "13734   The Subtle Art of Not Giving a F*ck  Mark Manson  HarperCollins   \n",
       "14874   The Subtle Art of Not Giving a F*ck  Mark Manson  HarperCollins   \n",
       "30647   The Subtle Art of Not Giving a F*ck  Mark Manson  HarperCollins   \n",
       "30708   The Subtle Art of Not Giving a F*ck  Mark Manson  HarperCollins   \n",
       "30727   The Subtle Art of Not Giving a F*ck  Mark Manson  HarperCollins   \n",
       "...                                     ...          ...            ...   \n",
       "180860  The Subtle Art of Not Giving a F*ck  Mark Manson  HarperCollins   \n",
       "180931  The Subtle Art of Not Giving a F*ck  Mark Manson  HarperCollins   \n",
       "180948  The Subtle Art of Not Giving a F*ck  Mark Manson  HarperCollins   \n",
       "180963  The Subtle Art of Not Giving a F*ck  Mark Manson  HarperCollins   \n",
       "180985  The Subtle Art of Not Giving a F*ck  Mark Manson  HarperCollins   \n",
       "\n",
       "       PublishedDate           ISBN  PageCount Categories  AverageRating  \\\n",
       "13734     2016-09-13  9780062457738        197  Self-Help            4.0   \n",
       "14874     2016-09-13  9780062457738        197  Self-Help            4.0   \n",
       "30647     2016-09-13  9780062457738        197  Self-Help            4.0   \n",
       "30708     2016-09-13  9780062457738        197  Self-Help            4.0   \n",
       "30727     2016-09-13  9780062457738        197  Self-Help            4.0   \n",
       "...              ...            ...        ...        ...            ...   \n",
       "180860    2016-09-13  9780062457738        197  Self-Help            4.0   \n",
       "180931    2016-09-13  9780062457738        197  Self-Help            4.0   \n",
       "180948    2016-09-13  9780062457738        197  Self-Help            4.0   \n",
       "180963    2016-09-13  9780062457738        197  Self-Help            4.0   \n",
       "180985    2016-09-13  9780062457738        197  Self-Help            4.0   \n",
       "\n",
       "        RatingsCount Language  \n",
       "13734             17       en  \n",
       "14874             17       en  \n",
       "30647             17       en  \n",
       "30708             17       en  \n",
       "30727             17       en  \n",
       "...              ...      ...  \n",
       "180860            17       en  \n",
       "180931            17       en  \n",
       "180948            17       en  \n",
       "180963            17       en  \n",
       "180985            17       en  \n",
       "\n",
       "[137 rows x 10 columns]"
      ]
     },
     "execution_count": 18,
     "metadata": {},
     "output_type": "execute_result"
    }
   ],
   "source": [
    "# this ISBN is supposed to be unique, there cant possibly 137 books with the same ISBN...\n",
    "combined_df[combined_df['ISBN'] == '9780062457738']"
   ]
  },
  {
   "cell_type": "code",
   "execution_count": null,
   "metadata": {},
   "outputs": [
    {
     "data": {
      "text/html": [
       "<div>\n",
       "<style scoped>\n",
       "    .dataframe tbody tr th:only-of-type {\n",
       "        vertical-align: middle;\n",
       "    }\n",
       "\n",
       "    .dataframe tbody tr th {\n",
       "        vertical-align: top;\n",
       "    }\n",
       "\n",
       "    .dataframe thead th {\n",
       "        text-align: right;\n",
       "    }\n",
       "</style>\n",
       "<table border=\"1\" class=\"dataframe\">\n",
       "  <thead>\n",
       "    <tr style=\"text-align: right;\">\n",
       "      <th></th>\n",
       "      <th>Title</th>\n",
       "      <th>Authors</th>\n",
       "      <th>Publisher</th>\n",
       "      <th>PublishedDate</th>\n",
       "      <th>ISBN</th>\n",
       "      <th>PageCount</th>\n",
       "      <th>Categories</th>\n",
       "      <th>AverageRating</th>\n",
       "      <th>RatingsCount</th>\n",
       "      <th>Language</th>\n",
       "    </tr>\n",
       "  </thead>\n",
       "  <tbody>\n",
       "    <tr>\n",
       "      <th>30400</th>\n",
       "      <td>The History Book</td>\n",
       "      <td>DK</td>\n",
       "      <td>Penguin</td>\n",
       "      <td>2016-09-16</td>\n",
       "      <td>9781465457752</td>\n",
       "      <td>756</td>\n",
       "      <td>History</td>\n",
       "      <td>1.0</td>\n",
       "      <td>1</td>\n",
       "      <td>en</td>\n",
       "    </tr>\n",
       "    <tr>\n",
       "      <th>30627</th>\n",
       "      <td>The History Book</td>\n",
       "      <td>DK</td>\n",
       "      <td>Penguin</td>\n",
       "      <td>2016-09-16</td>\n",
       "      <td>9781465457752</td>\n",
       "      <td>756</td>\n",
       "      <td>History</td>\n",
       "      <td>1.0</td>\n",
       "      <td>1</td>\n",
       "      <td>en</td>\n",
       "    </tr>\n",
       "    <tr>\n",
       "      <th>31170</th>\n",
       "      <td>The History Book</td>\n",
       "      <td>DK</td>\n",
       "      <td>Penguin</td>\n",
       "      <td>2016-09-16</td>\n",
       "      <td>9781465457752</td>\n",
       "      <td>756</td>\n",
       "      <td>History</td>\n",
       "      <td>1.0</td>\n",
       "      <td>1</td>\n",
       "      <td>en</td>\n",
       "    </tr>\n",
       "    <tr>\n",
       "      <th>31246</th>\n",
       "      <td>The History Book</td>\n",
       "      <td>DK</td>\n",
       "      <td>Penguin</td>\n",
       "      <td>2016-09-16</td>\n",
       "      <td>9781465457752</td>\n",
       "      <td>756</td>\n",
       "      <td>History</td>\n",
       "      <td>1.0</td>\n",
       "      <td>1</td>\n",
       "      <td>en</td>\n",
       "    </tr>\n",
       "    <tr>\n",
       "      <th>31352</th>\n",
       "      <td>The History Book</td>\n",
       "      <td>DK</td>\n",
       "      <td>Penguin</td>\n",
       "      <td>2016-09-16</td>\n",
       "      <td>9781465457752</td>\n",
       "      <td>756</td>\n",
       "      <td>History</td>\n",
       "      <td>1.0</td>\n",
       "      <td>1</td>\n",
       "      <td>en</td>\n",
       "    </tr>\n",
       "    <tr>\n",
       "      <th>...</th>\n",
       "      <td>...</td>\n",
       "      <td>...</td>\n",
       "      <td>...</td>\n",
       "      <td>...</td>\n",
       "      <td>...</td>\n",
       "      <td>...</td>\n",
       "      <td>...</td>\n",
       "      <td>...</td>\n",
       "      <td>...</td>\n",
       "      <td>...</td>\n",
       "    </tr>\n",
       "    <tr>\n",
       "      <th>180180</th>\n",
       "      <td>The History Book</td>\n",
       "      <td>DK</td>\n",
       "      <td>Penguin</td>\n",
       "      <td>2016-09-16</td>\n",
       "      <td>9781465457752</td>\n",
       "      <td>756</td>\n",
       "      <td>History</td>\n",
       "      <td>1.0</td>\n",
       "      <td>1</td>\n",
       "      <td>en</td>\n",
       "    </tr>\n",
       "    <tr>\n",
       "      <th>180215</th>\n",
       "      <td>The History Book</td>\n",
       "      <td>DK</td>\n",
       "      <td>Penguin</td>\n",
       "      <td>2016-09-16</td>\n",
       "      <td>9781465457752</td>\n",
       "      <td>756</td>\n",
       "      <td>History</td>\n",
       "      <td>1.0</td>\n",
       "      <td>1</td>\n",
       "      <td>en</td>\n",
       "    </tr>\n",
       "    <tr>\n",
       "      <th>180249</th>\n",
       "      <td>The History Book</td>\n",
       "      <td>DK</td>\n",
       "      <td>Penguin</td>\n",
       "      <td>2016-09-16</td>\n",
       "      <td>9781465457752</td>\n",
       "      <td>756</td>\n",
       "      <td>History</td>\n",
       "      <td>1.0</td>\n",
       "      <td>1</td>\n",
       "      <td>en</td>\n",
       "    </tr>\n",
       "    <tr>\n",
       "      <th>180523</th>\n",
       "      <td>The History Book</td>\n",
       "      <td>DK</td>\n",
       "      <td>Penguin</td>\n",
       "      <td>2016-09-16</td>\n",
       "      <td>9781465457752</td>\n",
       "      <td>756</td>\n",
       "      <td>History</td>\n",
       "      <td>1.0</td>\n",
       "      <td>1</td>\n",
       "      <td>en</td>\n",
       "    </tr>\n",
       "    <tr>\n",
       "      <th>180631</th>\n",
       "      <td>The History Book</td>\n",
       "      <td>DK</td>\n",
       "      <td>Penguin</td>\n",
       "      <td>2016-09-16</td>\n",
       "      <td>9781465457752</td>\n",
       "      <td>756</td>\n",
       "      <td>History</td>\n",
       "      <td>1.0</td>\n",
       "      <td>1</td>\n",
       "      <td>en</td>\n",
       "    </tr>\n",
       "  </tbody>\n",
       "</table>\n",
       "<p>106 rows × 10 columns</p>\n",
       "</div>"
      ],
      "text/plain": [
       "                   Title Authors Publisher PublishedDate           ISBN  \\\n",
       "30400   The History Book      DK   Penguin    2016-09-16  9781465457752   \n",
       "30627   The History Book      DK   Penguin    2016-09-16  9781465457752   \n",
       "31170   The History Book      DK   Penguin    2016-09-16  9781465457752   \n",
       "31246   The History Book      DK   Penguin    2016-09-16  9781465457752   \n",
       "31352   The History Book      DK   Penguin    2016-09-16  9781465457752   \n",
       "...                  ...     ...       ...           ...            ...   \n",
       "180180  The History Book      DK   Penguin    2016-09-16  9781465457752   \n",
       "180215  The History Book      DK   Penguin    2016-09-16  9781465457752   \n",
       "180249  The History Book      DK   Penguin    2016-09-16  9781465457752   \n",
       "180523  The History Book      DK   Penguin    2016-09-16  9781465457752   \n",
       "180631  The History Book      DK   Penguin    2016-09-16  9781465457752   \n",
       "\n",
       "        PageCount Categories  AverageRating  RatingsCount Language  \n",
       "30400         756    History            1.0             1       en  \n",
       "30627         756    History            1.0             1       en  \n",
       "31170         756    History            1.0             1       en  \n",
       "31246         756    History            1.0             1       en  \n",
       "31352         756    History            1.0             1       en  \n",
       "...           ...        ...            ...           ...      ...  \n",
       "180180        756    History            1.0             1       en  \n",
       "180215        756    History            1.0             1       en  \n",
       "180249        756    History            1.0             1       en  \n",
       "180523        756    History            1.0             1       en  \n",
       "180631        756    History            1.0             1       en  \n",
       "\n",
       "[106 rows x 10 columns]"
      ]
     },
     "execution_count": 19,
     "metadata": {},
     "output_type": "execute_result"
    }
   ],
   "source": [
    "# lame\n",
    "combined_df[combined_df['ISBN'] == '9781465457752']"
   ]
  },
  {
   "cell_type": "code",
   "execution_count": 20,
   "metadata": {},
   "outputs": [],
   "source": [
    "# drop em\n",
    "combined_df = combined_df.drop_duplicates(subset='ISBN')"
   ]
  },
  {
   "cell_type": "code",
   "execution_count": 21,
   "metadata": {},
   "outputs": [
    {
     "data": {
      "text/plain": [
       "ISBN\n",
       "9781316351925    1\n",
       "9781976182198    1\n",
       "9781608685400    1\n",
       "9781626255951    1\n",
       "9781414329598    1\n",
       "                ..\n",
       "9781101148723    1\n",
       "9783540002901    1\n",
       "9781441971883    1\n",
       "9780323141437    1\n",
       "9780191504259    1\n",
       "Name: count, Length: 1789, dtype: int64"
      ]
     },
     "execution_count": 21,
     "metadata": {},
     "output_type": "execute_result"
    }
   ],
   "source": [
    "combined_df['ISBN'].value_counts()"
   ]
  },
  {
   "cell_type": "code",
   "execution_count": 22,
   "metadata": {},
   "outputs": [
    {
     "data": {
      "text/plain": [
       "1789"
      ]
     },
     "execution_count": 22,
     "metadata": {},
     "output_type": "execute_result"
    }
   ],
   "source": [
    "len(combined_df)"
   ]
  },
  {
   "cell_type": "markdown",
   "metadata": {},
   "source": [
    "### Inspect the `Authors` column"
   ]
  },
  {
   "cell_type": "code",
   "execution_count": null,
   "metadata": {},
   "outputs": [],
   "source": []
  },
  {
   "cell_type": "markdown",
   "metadata": {},
   "source": [
    "### Inspect the `Publisher` column"
   ]
  },
  {
   "cell_type": "markdown",
   "metadata": {},
   "source": [
    "### this column needs more work"
   ]
  },
  {
   "cell_type": "code",
   "execution_count": 23,
   "metadata": {},
   "outputs": [
    {
     "data": {
      "text/plain": [
       "array(['Cambridge University Press', 'Bantam', 'Zondervan',\n",
       "       'HarperCollins UK', 'Harper Collins', 'HarperCollins',\n",
       "       'Oxford University Press, USA', 'Grupo Nelson', 'Triumph Books',\n",
       "       'Pearson', 'Penguin', 'Knopf', 'Scholastic Inc.', 'Random House',\n",
       "       'Tor Books', 'University of Chicago Press',\n",
       "       'Houghton Mifflin Harcourt', 'Alfred Music Publishing',\n",
       "       'Scholastic', 'Anchor', 'Hachette Books', 'Canongate Books',\n",
       "       'Little, Brown', 'Tor Nightfire', 'Sourcebooks, Inc.',\n",
       "       'Samurai Media Limited', 'Little, Brown Books for Young Readers',\n",
       "       'Univ of California Press', 'Tyndale House Publishers, Inc.',\n",
       "       'W W Norton & Company Incorporated', 'SAGE Publications',\n",
       "       'PuddleDancer Press', 'Random House Books for Young Readers',\n",
       "       'Simon and Schuster', 'Bloomsbury Publishing',\n",
       "       'Oxford University Press - Children', 'Elsevier', 'Tordotcom',\n",
       "       'Stanford University Press', 'Nursesbooks.org',\n",
       "       'Black Classic Press', 'Faber & Faber',\n",
       "       'University of Michigan Press', 'Nosy Crow', 'Dell Books',\n",
       "       'Macmillan', 'Vintage', 'Henry Holt and Company',\n",
       "       'Holt Paperbacks', 'W. W. Norton & Company',\n",
       "       'Harry Potter (Hardcover)', 'Graywolf Press', 'Millbrook Press',\n",
       "       'Pearson Education', 'S. Chand Publishing', 'John Wiley & Sons',\n",
       "       'Purdue University Press', 'Chinese University Press',\n",
       "       'Booksurge Publishing', 'B. Jain Publishers',\n",
       "       '\"O\\'Reilly Media, Inc.\"', 'No Starch Press',\n",
       "       'Springer Science & Business Media', 'SAGE', 'CRC Press', 'OTexts',\n",
       "       'Routledge', 'Sarabande Books', 'Princeton University Press',\n",
       "       'National Academies Press', 'Vintage Books', 'MIT Press', 'Orbit',\n",
       "       'Manning Publications', 'Puffin', 'Springer', 'Orbit Books',\n",
       "       'Schocken', 'Capstone', 'Hyperion', 'Berrett-Koehler Publishers',\n",
       "       'Grove/Atlantic, Inc.', 'New York Review of Books',\n",
       "       'Grand Central Publishing',\n",
       "       'Createspace Independent Publishing Platform', 'CUA Press',\n",
       "       'Citadel Press', 'Legend Press Ltd', 'Candlewick Press',\n",
       "       'Random House Canada', 'Allen & Unwin', 'Wendy Lamb Books',\n",
       "       'Ticknor & Fields', 'Open Road Media', 'HMH',\n",
       "       'BUENOS BOOKS AMERICA LLC', 'Farrar, Straus and Giroux',\n",
       "       'Farrar, Straus and Giroux (BYR)', 'B&H Publishing Group',\n",
       "       'Watkins Media Limited', 'Blue Box Press', 'Hachette UK',\n",
       "       'Galaxy Press  LLC', 'Intervisual/Piggy Toes', 'Entangled: Teen',\n",
       "       'Crown', 'Charlesbridge Publishing', 'First Second',\n",
       "       'Ballantine Books', 'Picador', 'Usborne Publishing Ltd', 'ASCD',\n",
       "       'Rowman & Littlefield', 'JHU Press', 'Apress',\n",
       "       'Pearson Education India', 'Firewall Media',\n",
       "       'Addison-Wesley Professional', 'Roberto Ierusalimschy',\n",
       "       'Maker Media, Inc.', 'BPB Publications', 'Addison-Wesley',\n",
       "       'Pearson Deutschland GmbH', 'For Dummies', 'Lulu.com',\n",
       "       'HarperCollins Leadership', 'Network Theory.', 'Sams Publishing',\n",
       "       'CQ Press', 'McGraw Hill Professional', 'Guilford Press',\n",
       "       'Elsevier Health Sciences', 'Andrews McMeel Publishing',\n",
       "       'Fordham Univ Press', \"Baha'i Publishing Trust\", 'Hachette+ORM',\n",
       "       'Elle Kennedy Inc.', 'Chicago Review Press',\n",
       "       'Da Capo Lifelong Books', 'Shambhala Publications',\n",
       "       'Bloomsbury Publishing USA', 'Hachette Digital, Inc.',\n",
       "       'Denene Millner Books/Simon & Schuster Books for Young Readers',\n",
       "       'Greenleaf Book Group', 'Rodale Books', 'Penguin UK',\n",
       "       'Urban Books', 'Knopf Books for Young Readers',\n",
       "       'Atlantic Books Ltd', 'Multilingual Matters',\n",
       "       'Lippincott Williams & Wilkins', 'Enchanted Lion Books',\n",
       "       'Church House Publishing', 'Text Publishing', 'Presidio Press',\n",
       "       'Faber Publishing', 'Vertigo', 'Basic Books',\n",
       "       'Disney Electronic Content', 'Stephen Weber', 'Prentice Hall',\n",
       "       \"St. Martin's Press\", 'Bucknell University Press',\n",
       "       'National Geographic Books', 'One World', 'Boom! Studios',\n",
       "       'AMACOM', 'Pantheon', 'Broadway Books', 'Del Rey', 'Night Shade',\n",
       "       'Simon & Schuster Books for Young Readers', 'Random House Worlds',\n",
       "       'Dell', 'Pan Macmillan', 'Derek Padula', 'New Press, The',\n",
       "       'IBM Redbooks', 'Blurb', 'VIZ Media LLC', 'Scarecrow Press',\n",
       "       'Gallery Books', 'Institute of GS', 'Yearling',\n",
       "       'Jones & Bartlett Publishers', 'Minotaur Books',\n",
       "       'American Library Association', 'Delacorte Press', 'Dial Press',\n",
       "       'Indiana University Press', 'Island Press',\n",
       "       'Council on Foreign Relations', 'Barbour Publishing',\n",
       "       'The Overmountain Press', 'Oxford University Press',\n",
       "       'Free Spirit Publishing', 'Algonquin Books',\n",
       "       'Giramondo Publishing', 'Feiwel & Friends', 'RH Childrens Books',\n",
       "       'Beacon Press', 'IARC', 'Macmillan + ORM', 'Alfred Music',\n",
       "       'Pan Australia', 'CABI', 'Wm. B. Eerdmans Publishing', 'Abrams',\n",
       "       'Rocky Pond Books', 'Specialty Press (MN)', 'Hodder Paperbacks',\n",
       "       'Baker Books', 'Flashlight Press', 'Thieme',\n",
       "       'State University of New York Press',\n",
       "       'Random House Trade Paperbacks', 'Citadel                       ',\n",
       "       'Daniel Greene', 'Revell', 'World Future Society',\n",
       "       'Packt Publishing Ltd', 'New Harbinger  Publications', 'Harlequin',\n",
       "       'Flatiron Books', 'Henry Holt and Company (BYR)', 'Laurel Leaf',\n",
       "       'PHI Learning Pvt. Ltd.', 'Yale University Press',\n",
       "       'Academic Press', 'Columbia University Press',\n",
       "       \"Hodder Children's Books\", 'Duke University Press', 'Harmony',\n",
       "       'Sarfraz Zaidi', 'Rodale', 'Kensington Publishing Corp.',\n",
       "       'FT Press', 'Lyrical Press', 'Genever Benning', 'Basic Books (AZ)',\n",
       "       'Forge Books', 'David C Cook', 'Crooked Lane Books',\n",
       "       'Hay House, Inc', 'Llewellyn Worldwide',\n",
       "       'Baker Book House Company', 'Pinnacle Books', 'Taylor & Francis',\n",
       "       'Univ. Press of Mississippi', 'Verso', 'Roaring Brook Press',\n",
       "       'Doubleday Books', 'Appetite by Random House',\n",
       "       'Westminster John Knox Press', 'A&C Black', 'Dey Street Books',\n",
       "       'Bond Street Books', \"St. Martin's Griffin\", 'Modern Library',\n",
       "       'ABDO', 'Scholastic UK', 'Thomas Nelson', 'ReadHowYouWant.com',\n",
       "       'MIRA', 'WestBow Press', 'J.L. Berg', 'jimmy patterson', 'Avery',\n",
       "       'Rock Point Gift & Stationery', 'Larrikin House',\n",
       "       'Aspen Publishers', 'PLAZA & JANÉS', 'One World/Ballantine',\n",
       "       'Gracewing Publishing', 'Chronicle Books', 'Twelve',\n",
       "       'Xlibris Corporation', 'Ck Publishing', 'Que Publishing',\n",
       "       'New Age International', 'Crown Books For Young Readers',\n",
       "       'Celadon Books', 'Kalmbach Publishing Company',\n",
       "       'Messenger International', 'FSG Originals', 'Bold Type Books',\n",
       "       'Crown Currency', 'Vintage Crime/Black Lizard', 'Vintage Canada',\n",
       "       'Peachpit Press', 'Ignatius Press', 'Orient Blackswan',\n",
       "       'CSHL Press', 'Random House Incorporated', 'Aurum Press',\n",
       "       'Harpercollins Pub Limited', 'Coffee House Press',\n",
       "       'Psychology Press', 'The New Press', 'Simon & Schuster',\n",
       "       'Thomas Nelson Inc', 'M.E. Sharpe', 'Harvard University Press',\n",
       "       'Newnes', 'IGI Global', 'Back Bay Books', 'NewsMax Media, Inc.',\n",
       "       'McGraw-Hill/Irwin', 'Melville House', 'Jo Fletcher Books',\n",
       "       'HQN Books', 'Canelo', 'Hogarth', 'Palgrave Macmillan', 'Fawcett',\n",
       "       'OUP Oxford', 'University Science Books', 'ESRI Press',\n",
       "       'Kendall Hunt', 'NSTA Press',\n",
       "       'Benjamin-Cummings Publishing Company', 'Infobase Publishing',\n",
       "       'Courier Corporation', 'Grove Press', 'Evolve Global Publishing',\n",
       "       'Hardie Grant Publishing', 'Robinson',\n",
       "       'Black Irish Entertainment LLC', 'Diamond Pocket Books Pvt Ltd',\n",
       "       'Ten Speed Press', 'Amber-Allen Publishing', 'New World Library',\n",
       "       'Univ of North Carolina Press', 'Pearson UK', 'Marianne Kenny',\n",
       "       'Dark Horse Comics', 'Fulcrum Publishing',\n",
       "       'Princeton Architectural Press', 'Phaidon Press',\n",
       "       'Brio Books Pty Ltd', 'Gibbs Smith', 'New Riders',\n",
       "       'Barefoot Books', 'Active Synapse', 'Graphix',\n",
       "       'Andrews UK Limited', 'Echo Library',\n",
       "       'Viking Books for Young Readers', 'First Second Books',\n",
       "       'Mountaineers Books', 'Vertical, Inc.', 'BalboaPress', 'Ember',\n",
       "       'Scholastic Paperbacks', 'Knopf Canada', 'Center Street',\n",
       "       'Citadel', 'BRILL', 'McClelland & Stewart', 'Random House India',\n",
       "       'Three Rivers Press', 'Convergent Books', 'Time Warner Books UK',\n",
       "       'Penguin Books Limited', 'Soho Press', 'Universities Press',\n",
       "       'IT Revolution', 'University of Pittsburgh Pre', 'David Goggins',\n",
       "       'Oculus Publishers', 'Wordsworth Editions',\n",
       "       \"Macmillan Children's Books\", 'Metropolitan Museum of Art',\n",
       "       'Pocket Books', 'National Geographic Kids', 'William Andrew',\n",
       "       'University of Georgia Press', 'American Bar Association',\n",
       "       'Polity', 'Career PressInc', 'Heinemann', 'Wizards of the Coast',\n",
       "       'Conran Octopus', 'The Creative Company', 'Forever',\n",
       "       'Arthur A. Levine Books', 'Pan', 'Taschen America Llc',\n",
       "       'Random House Digital, Inc.', 'Profile Books', 'Clarkson Potter',\n",
       "       'White Falcon Publishing', 'Penguin Books', 'Quest Books',\n",
       "       'Health Communications, Inc.', 'Charlesbridge',\n",
       "       'HarperCollins Canada', 'Pearson Higher Education AU',\n",
       "       'Anchor Canada', 'Quest Publishing & Distribution',\n",
       "       'Reaktion Books', 'Timber Press', 'School Specialty Publishing',\n",
       "       'Gill & Macmillan Ltd', 'iUniverse', 'Arcadia Publishing',\n",
       "       'Hachette Go', 'Rosenfeld Media', 'NYU Press',\n",
       "       'Thomson South-Western', 'Sterling Publishing Company, Inc.',\n",
       "       'Komal Singh', 'Souvenir Press', 'Pie Books', 'Waterside Press',\n",
       "       'Running Press Adult', 'WaterBrook', \"O'Reilly Media\",\n",
       "       'Barnes & Noble Publishing', 'Springer Nature', 'Mulholland Books',\n",
       "       'Farrar, Straus, and Giroux', 'PublicAffairs', 'Egmont Books (UK)',\n",
       "       'Hello Clarity', 'Penguin Books India',\n",
       "       'David R. Godine Publisher', 'Wesleyan University Press',\n",
       "       'Dial Press Trade Paperback', 'McRae Books', 'Doubleday Canada',\n",
       "       'Rutgers University Press', 'Publications International, Limited',\n",
       "       'HSRC Press', 'SIU Press', 'Catapult',\n",
       "       'University of Virginia Press', 'Eye Books (US&CA)',\n",
       "       'Nelson Thornes', 'Wolters Kluwer',\n",
       "       'Penguin Random House India Private Limited', 'Forum Books',\n",
       "       'PrashantAdvait Foundation', 'CSIRO PUBLISHING',\n",
       "       'Research & Education Assoc.', 'Sleeping Bear Press', 'KpopBehind',\n",
       "       'Tanglewood', 'Random House Studio', 'World Wisdom, Inc',\n",
       "       'Villard', 'Kensington Books', 'Al-Anon Family Groups Inc.',\n",
       "       'Little, Brown Spark', 'Rennie Road Books', 'Regnery Publishing',\n",
       "       'Walter Foster Publishing', 'Poppy', 'UNC Press Books',\n",
       "       'North Point Press', 'Bantam Dell Publishing Group',\n",
       "       'Open Road + Grove/Atlantic', 'Childs Play International Limited',\n",
       "       'Kalmbach Publishing, Co.', 'Spectra', 'Kaplan Test Prep',\n",
       "       'John Hunt Publishing', 'Ivy Books', 'editorips@usp.ac.fj',\n",
       "       'Signet Classics', 'Penguin Random House South Africa',\n",
       "       'Mercier Press Ltd', 'Boss Fight Books', 'Harvard Business Press',\n",
       "       'Seven Stories Press', 'University of Texas Press',\n",
       "       'Four Elephants Press', 'London Publishing Partnership',\n",
       "       'Coolidge Press', 'Penguin Group Australia',\n",
       "       'Amer Psychological Assn', 'Dutton Childrens Books',\n",
       "       'Hal Leonard Corporation', 'World Bank Publications',\n",
       "       'Reagan Arthur Books', 'Metropolitan Books',\n",
       "       'Bonnier Publishing Fiction Ltd.'], dtype=object)"
      ]
     },
     "execution_count": 23,
     "metadata": {},
     "output_type": "execute_result"
    }
   ],
   "source": [
    "# Get unique publishers\n",
    "unique_publishers = combined_df['Publisher'].unique()\n",
    "unique_publishers"
   ]
  },
  {
   "cell_type": "code",
   "execution_count": 24,
   "metadata": {},
   "outputs": [
    {
     "name": "stdout",
     "output_type": "stream",
     "text": [
      "[('HarperCollins', 100), ('Harper Collins', 96), ('HarperCollins UK', 95), ('HarperCollins Leadership', 90), ('Harpercollins Pub Limited', 90)]\n"
     ]
    }
   ],
   "source": [
    "# %pip install thefuzz\n",
    "from thefuzz import process\n",
    "\n",
    "# Example of using fuzzy matching to find similar publisher names\n",
    "choices = unique_publishers\n",
    "matches = process.extract(\"HarperCollins\", choices, limit=5)\n",
    "print(matches)\n"
   ]
  },
  {
   "cell_type": "code",
   "execution_count": 25,
   "metadata": {},
   "outputs": [],
   "source": [
    "# repair the values\n",
    "combined_df['Publisher'] = combined_df['Publisher'].replace({'HarperCollins':'Harper Collins', \n",
    "                                                             'HarperCollins UK':'Harper Collins', \n",
    "                                                             'HarperCollins Leadership':'Harper Collins',\n",
    "                                                             'Harpercollins Pub Limited':'Harper Collins'})"
   ]
  },
  {
   "cell_type": "code",
   "execution_count": 26,
   "metadata": {},
   "outputs": [],
   "source": [
    "# Count occurrences of each publisher to verify consistency\n",
    "# publisher_counts_after = combined_df['Publisher'].sort_values(by='Title')\n",
    "# print(publisher_counts_after.head(50))\n"
   ]
  },
  {
   "cell_type": "markdown",
   "metadata": {},
   "source": [
    "### Inspect the `Categories` column"
   ]
  },
  {
   "cell_type": "code",
   "execution_count": null,
   "metadata": {},
   "outputs": [
    {
     "data": {
      "text/plain": [
       "Categories\n",
       "Fiction                            343\n",
       "Juvenile Fiction                   260\n",
       "Biography & Autobiography          150\n",
       "Computers                          102\n",
       "Business & Economics                98\n",
       "                                  ... \n",
       "Asymmetric warfare                   1\n",
       "Earth sciences                       1\n",
       "Self-actualization (Psychology)      1\n",
       "California                           1\n",
       "Adventure stories                    1\n",
       "Name: count, Length: 98, dtype: int64"
      ]
     },
     "execution_count": 27,
     "metadata": {},
     "output_type": "execute_result"
    }
   ],
   "source": [
    "combined_df['Categories'].value_counts()"
   ]
  },
  {
   "cell_type": "code",
   "execution_count": 28,
   "metadata": {},
   "outputs": [
    {
     "data": {
      "text/plain": [
       "9                     Mathematics\n",
       "22                        Fiction\n",
       "42               Juvenile Fiction\n",
       "65      Biography & Autobiography\n",
       "83               Juvenile Fiction\n",
       "                  ...            \n",
       "1952                    Reference\n",
       "1967                    Computers\n",
       "1973         Business & Economics\n",
       "1981                      Fiction\n",
       "1985                    Computers\n",
       "Name: Categories, Length: 98, dtype: object"
      ]
     },
     "execution_count": 28,
     "metadata": {},
     "output_type": "execute_result"
    }
   ],
   "source": [
    "combined_df['Categories'].head(98)"
   ]
  },
  {
   "cell_type": "code",
   "execution_count": null,
   "metadata": {},
   "outputs": [
    {
     "data": {
      "text/html": [
       "<div>\n",
       "<style scoped>\n",
       "    .dataframe tbody tr th:only-of-type {\n",
       "        vertical-align: middle;\n",
       "    }\n",
       "\n",
       "    .dataframe tbody tr th {\n",
       "        vertical-align: top;\n",
       "    }\n",
       "\n",
       "    .dataframe thead th {\n",
       "        text-align: right;\n",
       "    }\n",
       "</style>\n",
       "<table border=\"1\" class=\"dataframe\">\n",
       "  <thead>\n",
       "    <tr style=\"text-align: right;\">\n",
       "      <th></th>\n",
       "      <th>Title</th>\n",
       "      <th>Authors</th>\n",
       "      <th>Publisher</th>\n",
       "      <th>PublishedDate</th>\n",
       "      <th>ISBN</th>\n",
       "      <th>PageCount</th>\n",
       "      <th>Categories</th>\n",
       "      <th>AverageRating</th>\n",
       "      <th>RatingsCount</th>\n",
       "      <th>Language</th>\n",
       "    </tr>\n",
       "  </thead>\n",
       "  <tbody>\n",
       "    <tr>\n",
       "      <th>220</th>\n",
       "      <td>Thinking in C++</td>\n",
       "      <td>Bruce Eckel</td>\n",
       "      <td>Pearson</td>\n",
       "      <td>2000-01-01</td>\n",
       "      <td>9780139798092</td>\n",
       "      <td>834</td>\n",
       "      <td>Computers</td>\n",
       "      <td>4.5</td>\n",
       "      <td>18</td>\n",
       "      <td>en</td>\n",
       "    </tr>\n",
       "    <tr>\n",
       "      <th>427</th>\n",
       "      <td>HT THINK LIKE A COMPUTER SCIEN</td>\n",
       "      <td>Jeffrey Elkner, Allen B. Downey, Chris Meyers</td>\n",
       "      <td>Samurai Media Limited</td>\n",
       "      <td>2016-10-04</td>\n",
       "      <td>9789888406784</td>\n",
       "      <td>306</td>\n",
       "      <td>Computers</td>\n",
       "      <td>5.0</td>\n",
       "      <td>1</td>\n",
       "      <td>en</td>\n",
       "    </tr>\n",
       "    <tr>\n",
       "      <th>1447</th>\n",
       "      <td>The Mythical Man-Month</td>\n",
       "      <td>Frederick P. Brooks Jr.</td>\n",
       "      <td>Pearson Education</td>\n",
       "      <td>1995-08-02</td>\n",
       "      <td>9780132119160</td>\n",
       "      <td>348</td>\n",
       "      <td>Computers</td>\n",
       "      <td>4.5</td>\n",
       "      <td>6</td>\n",
       "      <td>en</td>\n",
       "    </tr>\n",
       "    <tr>\n",
       "      <th>1934</th>\n",
       "      <td>R for Data Science</td>\n",
       "      <td>Hadley Wickham, Garrett Grolemund</td>\n",
       "      <td>\"O'Reilly Media, Inc.\"</td>\n",
       "      <td>2016-12-12</td>\n",
       "      <td>9781491910368</td>\n",
       "      <td>521</td>\n",
       "      <td>Computers</td>\n",
       "      <td>5.0</td>\n",
       "      <td>1</td>\n",
       "      <td>en</td>\n",
       "    </tr>\n",
       "    <tr>\n",
       "      <th>1938</th>\n",
       "      <td>The Book of R</td>\n",
       "      <td>Tilman M. Davies</td>\n",
       "      <td>No Starch Press</td>\n",
       "      <td>2016-07-16</td>\n",
       "      <td>9781593276515</td>\n",
       "      <td>833</td>\n",
       "      <td>Computers</td>\n",
       "      <td>1.0</td>\n",
       "      <td>1</td>\n",
       "      <td>en</td>\n",
       "    </tr>\n",
       "    <tr>\n",
       "      <th>...</th>\n",
       "      <td>...</td>\n",
       "      <td>...</td>\n",
       "      <td>...</td>\n",
       "      <td>...</td>\n",
       "      <td>...</td>\n",
       "      <td>...</td>\n",
       "      <td>...</td>\n",
       "      <td>...</td>\n",
       "      <td>...</td>\n",
       "      <td>...</td>\n",
       "    </tr>\n",
       "    <tr>\n",
       "      <th>170813</th>\n",
       "      <td>Patterns of Enterprise Application Architecture</td>\n",
       "      <td>Martin Fowler</td>\n",
       "      <td>Addison-Wesley</td>\n",
       "      <td>2012-03-09</td>\n",
       "      <td>9780133065213</td>\n",
       "      <td>558</td>\n",
       "      <td>Computers</td>\n",
       "      <td>3.0</td>\n",
       "      <td>8</td>\n",
       "      <td>en</td>\n",
       "    </tr>\n",
       "    <tr>\n",
       "      <th>174688</th>\n",
       "      <td>Python Cookbook</td>\n",
       "      <td>Alex Martelli, Anna Ravenscroft, David Ascher</td>\n",
       "      <td>\"O'Reilly Media, Inc.\"</td>\n",
       "      <td>2005-03-18</td>\n",
       "      <td>9780596554743</td>\n",
       "      <td>847</td>\n",
       "      <td>Computers</td>\n",
       "      <td>3.5</td>\n",
       "      <td>15</td>\n",
       "      <td>en</td>\n",
       "    </tr>\n",
       "    <tr>\n",
       "      <th>174709</th>\n",
       "      <td>C++ Primer Plus</td>\n",
       "      <td>Stephen Prata</td>\n",
       "      <td>Addison-Wesley Professional</td>\n",
       "      <td>2011-10-18</td>\n",
       "      <td>9780321776402</td>\n",
       "      <td>1435</td>\n",
       "      <td>Computers</td>\n",
       "      <td>5.0</td>\n",
       "      <td>1</td>\n",
       "      <td>en</td>\n",
       "    </tr>\n",
       "    <tr>\n",
       "      <th>174745</th>\n",
       "      <td>The The Modern C++ Challenge</td>\n",
       "      <td>Marius Bancila</td>\n",
       "      <td>Packt Publishing Ltd</td>\n",
       "      <td>2018-05-23</td>\n",
       "      <td>9781788994026</td>\n",
       "      <td>321</td>\n",
       "      <td>Computers</td>\n",
       "      <td>5.0</td>\n",
       "      <td>1</td>\n",
       "      <td>en</td>\n",
       "    </tr>\n",
       "    <tr>\n",
       "      <th>174889</th>\n",
       "      <td>Embedded Software Development with C</td>\n",
       "      <td>Kai Qian, David Den Haring, Li Cao</td>\n",
       "      <td>Springer Science &amp; Business Media</td>\n",
       "      <td>2009-07-28</td>\n",
       "      <td>9781441906069</td>\n",
       "      <td>397</td>\n",
       "      <td>Computers</td>\n",
       "      <td>1.0</td>\n",
       "      <td>1</td>\n",
       "      <td>en</td>\n",
       "    </tr>\n",
       "  </tbody>\n",
       "</table>\n",
       "<p>102 rows × 10 columns</p>\n",
       "</div>"
      ],
      "text/plain": [
       "                                                  Title  \\\n",
       "220                                     Thinking in C++   \n",
       "427                      HT THINK LIKE A COMPUTER SCIEN   \n",
       "1447                             The Mythical Man-Month   \n",
       "1934                                 R for Data Science   \n",
       "1938                                      The Book of R   \n",
       "...                                                 ...   \n",
       "170813  Patterns of Enterprise Application Architecture   \n",
       "174688                                  Python Cookbook   \n",
       "174709                                  C++ Primer Plus   \n",
       "174745                     The The Modern C++ Challenge   \n",
       "174889             Embedded Software Development with C   \n",
       "\n",
       "                                              Authors  \\\n",
       "220                                       Bruce Eckel   \n",
       "427     Jeffrey Elkner, Allen B. Downey, Chris Meyers   \n",
       "1447                          Frederick P. Brooks Jr.   \n",
       "1934                Hadley Wickham, Garrett Grolemund   \n",
       "1938                                 Tilman M. Davies   \n",
       "...                                               ...   \n",
       "170813                                  Martin Fowler   \n",
       "174688  Alex Martelli, Anna Ravenscroft, David Ascher   \n",
       "174709                                  Stephen Prata   \n",
       "174745                                 Marius Bancila   \n",
       "174889             Kai Qian, David Den Haring, Li Cao   \n",
       "\n",
       "                                Publisher PublishedDate           ISBN  \\\n",
       "220                               Pearson    2000-01-01  9780139798092   \n",
       "427                 Samurai Media Limited    2016-10-04  9789888406784   \n",
       "1447                    Pearson Education    1995-08-02  9780132119160   \n",
       "1934               \"O'Reilly Media, Inc.\"    2016-12-12  9781491910368   \n",
       "1938                      No Starch Press    2016-07-16  9781593276515   \n",
       "...                                   ...           ...            ...   \n",
       "170813                     Addison-Wesley    2012-03-09  9780133065213   \n",
       "174688             \"O'Reilly Media, Inc.\"    2005-03-18  9780596554743   \n",
       "174709        Addison-Wesley Professional    2011-10-18  9780321776402   \n",
       "174745               Packt Publishing Ltd    2018-05-23  9781788994026   \n",
       "174889  Springer Science & Business Media    2009-07-28  9781441906069   \n",
       "\n",
       "        PageCount Categories  AverageRating  RatingsCount Language  \n",
       "220           834  Computers            4.5            18       en  \n",
       "427           306  Computers            5.0             1       en  \n",
       "1447          348  Computers            4.5             6       en  \n",
       "1934          521  Computers            5.0             1       en  \n",
       "1938          833  Computers            1.0             1       en  \n",
       "...           ...        ...            ...           ...      ...  \n",
       "170813        558  Computers            3.0             8       en  \n",
       "174688        847  Computers            3.5            15       en  \n",
       "174709       1435  Computers            5.0             1       en  \n",
       "174745        321  Computers            5.0             1       en  \n",
       "174889        397  Computers            1.0             1       en  \n",
       "\n",
       "[102 rows x 10 columns]"
      ]
     },
     "execution_count": 29,
     "metadata": {},
     "output_type": "execute_result"
    }
   ],
   "source": [
    "combined_df[combined_df['Categories'] == 'Computers']"
   ]
  },
  {
   "cell_type": "markdown",
   "metadata": {},
   "source": [
    "### Inspect the `Language` column"
   ]
  },
  {
   "cell_type": "code",
   "execution_count": 30,
   "metadata": {},
   "outputs": [
    {
     "data": {
      "text/plain": [
       "Language\n",
       "en    1787\n",
       "es       1\n",
       "ar       1\n",
       "Name: count, dtype: int64"
      ]
     },
     "execution_count": 30,
     "metadata": {},
     "output_type": "execute_result"
    }
   ],
   "source": [
    "combined_df['Language'].value_counts()"
   ]
  },
  {
   "cell_type": "markdown",
   "metadata": {},
   "source": [
    "### Inspect the `PageCount` column"
   ]
  },
  {
   "cell_type": "code",
   "execution_count": 31,
   "metadata": {},
   "outputs": [
    {
     "data": {
      "image/png": "[encoded data removed]",
      "text/plain": [
       "<Figure size 640x480 with 1 Axes>"
      ]
     },
     "metadata": {},
     "output_type": "display_data"
    }
   ],
   "source": [
    "# boxplot of page counts\n",
    "sns.boxplot(data=combined_df, \n",
    "            y='PageCount', \n",
    "            color='orange', \n",
    "            width=0.5, \n",
    "            linewidth=1.5, \n",
    "            fliersize=5,\n",
    "            whis=1.5,            )\n",
    "plt.title('Boxplot of page counts')\n",
    "plt.xlabel('Page count')\n",
    "plt.show()"
   ]
  },
  {
   "cell_type": "code",
   "execution_count": 32,
   "metadata": {},
   "outputs": [
    {
     "name": "stderr",
     "output_type": "stream",
     "text": [
      "c:\\Users\\adame\\anaconda3_\\Lib\\site-packages\\seaborn\\_oldcore.py:1119: FutureWarning: use_inf_as_na option is deprecated and will be removed in a future version. Convert inf values to NaN before operating instead.\n",
      "  with pd.option_context('mode.use_inf_as_na', True):\n"
     ]
    },
    {
     "data": {
      "image/png": "[encoded data removed]",
      "text/plain": [
       "<Figure size 640x480 with 1 Axes>"
      ]
     },
     "metadata": {},
     "output_type": "display_data"
    }
   ],
   "source": [
    "# this plot looks crazy, let's check the distribution of page counts with books that have less than 1000 pages\n",
    "sns.histplot(data=combined_df[combined_df['PageCount'] < 1000], x='PageCount', bins=20, kde=True, color='purple')\n",
    "plt.title('Distribution of page counts')\n",
    "plt.xlabel('Page count')\n",
    "plt.ylabel('Count of books')\n",
    "plt.show()"
   ]
  },
  {
   "cell_type": "code",
   "execution_count": 33,
   "metadata": {},
   "outputs": [
    {
     "name": "stderr",
     "output_type": "stream",
     "text": [
      "c:\\Users\\adame\\anaconda3_\\Lib\\site-packages\\seaborn\\_oldcore.py:1119: FutureWarning: use_inf_as_na option is deprecated and will be removed in a future version. Convert inf values to NaN before operating instead.\n",
      "  with pd.option_context('mode.use_inf_as_na', True):\n"
     ]
    },
    {
     "data": {
      "image/png": "[encoded data removed]",
      "text/plain": [
       "<Figure size 640x480 with 1 Axes>"
      ]
     },
     "metadata": {},
     "output_type": "display_data"
    }
   ],
   "source": [
    "# plot the distribution of page counts\n",
    "sns.histplot(data=combined_df, x='PageCount', bins=20, color='purple')\n",
    "plt.title('Distribution of page counts')\n",
    "plt.xlabel('Page count')\n",
    "plt.ylabel('Count of books')\n",
    "plt.show()"
   ]
  },
  {
   "cell_type": "markdown",
   "metadata": {},
   "source": [
    "### Inspect the `RatingsCount` column"
   ]
  },
  {
   "cell_type": "code",
   "execution_count": 34,
   "metadata": {},
   "outputs": [
    {
     "name": "stderr",
     "output_type": "stream",
     "text": [
      "c:\\Users\\adame\\anaconda3_\\Lib\\site-packages\\seaborn\\_oldcore.py:1119: FutureWarning: use_inf_as_na option is deprecated and will be removed in a future version. Convert inf values to NaN before operating instead.\n",
      "  with pd.option_context('mode.use_inf_as_na', True):\n"
     ]
    },
    {
     "data": {
      "image/png": "[encoded data removed]",
      "text/plain": [
       "<Figure size 640x480 with 1 Axes>"
      ]
     },
     "metadata": {},
     "output_type": "display_data"
    }
   ],
   "source": [
    "# check the distribution of ratings count\n",
    "sns.histplot(data=combined_df, x='RatingsCount', bins=20, color='blue')\n",
    "plt.title('Distribution of ratings count')\n",
    "plt.xlabel('Ratings count')\n",
    "plt.ylabel('Count of books')\n",
    "plt.show()"
   ]
  },
  {
   "cell_type": "code",
   "execution_count": 35,
   "metadata": {},
   "outputs": [
    {
     "data": {
      "image/png": "[encoded data removed]",
      "text/plain": [
       "<Figure size 640x480 with 1 Axes>"
      ]
     },
     "metadata": {},
     "output_type": "display_data"
    }
   ],
   "source": [
    "# plot ratings boxplot\n",
    "sns.boxplot(data=combined_df, \n",
    "            y='RatingsCount', \n",
    "            color='orange', \n",
    "            width=0.5, \n",
    "            linewidth=1.5, \n",
    "            fliersize=5,\n",
    "            whis=1.5,            )\n",
    "plt.title('Boxplot of ratings counts')\n",
    "plt.xlabel('Ratings count')\n",
    "plt.show()\n"
   ]
  },
  {
   "cell_type": "code",
   "execution_count": 36,
   "metadata": {},
   "outputs": [
    {
     "data": {
      "text/plain": [
       "RatingsCount\n",
       "1      952\n",
       "2      300\n",
       "3      159\n",
       "4       83\n",
       "5       60\n",
       "      ... \n",
       "64       1\n",
       "989      1\n",
       "55       1\n",
       "248      1\n",
       "82       1\n",
       "Name: count, Length: 61, dtype: int64"
      ]
     },
     "execution_count": 36,
     "metadata": {},
     "output_type": "execute_result"
    }
   ],
   "source": [
    "combined_df['RatingsCount'].value_counts()"
   ]
  },
  {
   "cell_type": "markdown",
   "metadata": {},
   "source": [
    "### Inspect the `AverageRating` column"
   ]
  },
  {
   "cell_type": "code",
   "execution_count": 37,
   "metadata": {},
   "outputs": [
    {
     "name": "stderr",
     "output_type": "stream",
     "text": [
      "c:\\Users\\adame\\anaconda3_\\Lib\\site-packages\\seaborn\\_oldcore.py:1119: FutureWarning: use_inf_as_na option is deprecated and will be removed in a future version. Convert inf values to NaN before operating instead.\n",
      "  with pd.option_context('mode.use_inf_as_na', True):\n"
     ]
    },
    {
     "data": {
      "image/png": "[encoded data removed]",
      "text/plain": [
       "<Figure size 640x480 with 1 Axes>"
      ]
     },
     "metadata": {},
     "output_type": "display_data"
    }
   ],
   "source": [
    "# plot the distribution of average ratings\n",
    "sns.histplot(data=combined_df, \n",
    "             x='AverageRating', \n",
    "             bins=20, \n",
    "             color='green')\n",
    "plt.title('Distribution of average ratings')\n",
    "plt.xlabel('Average rating')\n",
    "plt.ylabel('Count of books')\n",
    "plt.show()"
   ]
  },
  {
   "cell_type": "markdown",
   "metadata": {},
   "source": [
    "## Feature engineering"
   ]
  },
  {
   "cell_type": "code",
   "execution_count": 38,
   "metadata": {},
   "outputs": [],
   "source": [
    "# add a column for the number of words in the title\n",
    "combined_df['TitleWordCount'] = combined_df['Title'].str.split().apply(len)"
   ]
  },
  {
   "cell_type": "code",
   "execution_count": 39,
   "metadata": {},
   "outputs": [
    {
     "data": {
      "text/plain": [
       "(Index(['Title', 'Authors', 'Publisher', 'PublishedDate', 'ISBN', 'PageCount',\n",
       "        'Categories', 'AverageRating', 'RatingsCount', 'Language',\n",
       "        'TitleWordCount'],\n",
       "       dtype='object'),\n",
       " (1789, 11))"
      ]
     },
     "execution_count": 39,
     "metadata": {},
     "output_type": "execute_result"
    }
   ],
   "source": [
    "combined_df.columns, combined_df.shape"
   ]
  },
  {
   "cell_type": "code",
   "execution_count": null,
   "metadata": {},
   "outputs": [],
   "source": []
  },
  {
   "cell_type": "code",
   "execution_count": 40,
   "metadata": {},
   "outputs": [
    {
     "data": {
      "text/html": [
       "<div>\n",
       "<style scoped>\n",
       "    .dataframe tbody tr th:only-of-type {\n",
       "        vertical-align: middle;\n",
       "    }\n",
       "\n",
       "    .dataframe tbody tr th {\n",
       "        vertical-align: top;\n",
       "    }\n",
       "\n",
       "    .dataframe thead th {\n",
       "        text-align: right;\n",
       "    }\n",
       "</style>\n",
       "<table border=\"1\" class=\"dataframe\">\n",
       "  <thead>\n",
       "    <tr style=\"text-align: right;\">\n",
       "      <th></th>\n",
       "      <th>Title</th>\n",
       "      <th>Authors</th>\n",
       "      <th>Publisher</th>\n",
       "      <th>PublishedDate</th>\n",
       "      <th>ISBN</th>\n",
       "      <th>PageCount</th>\n",
       "      <th>Categories</th>\n",
       "      <th>AverageRating</th>\n",
       "      <th>RatingsCount</th>\n",
       "      <th>Language</th>\n",
       "      <th>TitleWordCount</th>\n",
       "    </tr>\n",
       "  </thead>\n",
       "  <tbody>\n",
       "    <tr>\n",
       "      <th>9</th>\n",
       "      <td>The Theory of H(b) Spaces: Volume 2</td>\n",
       "      <td>Emmanuel Fricain, Javad Mashreghi</td>\n",
       "      <td>Cambridge University Press</td>\n",
       "      <td>2016-10-20</td>\n",
       "      <td>9781316351925</td>\n",
       "      <td>641</td>\n",
       "      <td>Mathematics</td>\n",
       "      <td>5.0</td>\n",
       "      <td>1</td>\n",
       "      <td>en</td>\n",
       "      <td>7</td>\n",
       "    </tr>\n",
       "    <tr>\n",
       "      <th>22</th>\n",
       "      <td>The Story of B</td>\n",
       "      <td>Daniel Quinn</td>\n",
       "      <td>Bantam</td>\n",
       "      <td>2010-01-13</td>\n",
       "      <td>9780307575234</td>\n",
       "      <td>350</td>\n",
       "      <td>Fiction</td>\n",
       "      <td>4.5</td>\n",
       "      <td>16</td>\n",
       "      <td>en</td>\n",
       "      <td>4</td>\n",
       "    </tr>\n",
       "    <tr>\n",
       "      <th>42</th>\n",
       "      <td>So B. It</td>\n",
       "      <td>Sarah Weeks</td>\n",
       "      <td>Zondervan</td>\n",
       "      <td>2009-10-20</td>\n",
       "      <td>9780061978777</td>\n",
       "      <td>276</td>\n",
       "      <td>Juvenile Fiction</td>\n",
       "      <td>2.0</td>\n",
       "      <td>3</td>\n",
       "      <td>en</td>\n",
       "      <td>3</td>\n",
       "    </tr>\n",
       "    <tr>\n",
       "      <th>65</th>\n",
       "      <td>Ramble Book: Musings on Childhood, Friendship,...</td>\n",
       "      <td>Adam Buxton</td>\n",
       "      <td>Harper Collins</td>\n",
       "      <td>2020-09-03</td>\n",
       "      <td>9780008293352</td>\n",
       "      <td>348</td>\n",
       "      <td>Biography &amp; Autobiography</td>\n",
       "      <td>5.0</td>\n",
       "      <td>1</td>\n",
       "      <td>en</td>\n",
       "      <td>11</td>\n",
       "    </tr>\n",
       "    <tr>\n",
       "      <th>83</th>\n",
       "      <td>Jumping the Scratch</td>\n",
       "      <td>Sarah Weeks</td>\n",
       "      <td>Harper Collins</td>\n",
       "      <td>2009-10-20</td>\n",
       "      <td>9780061978791</td>\n",
       "      <td>196</td>\n",
       "      <td>Juvenile Fiction</td>\n",
       "      <td>5.0</td>\n",
       "      <td>1</td>\n",
       "      <td>en</td>\n",
       "      <td>3</td>\n",
       "    </tr>\n",
       "  </tbody>\n",
       "</table>\n",
       "</div>"
      ],
      "text/plain": [
       "                                                Title  \\\n",
       "9                 The Theory of H(b) Spaces: Volume 2   \n",
       "22                                     The Story of B   \n",
       "42                                           So B. It   \n",
       "65  Ramble Book: Musings on Childhood, Friendship,...   \n",
       "83                                Jumping the Scratch   \n",
       "\n",
       "                              Authors                   Publisher  \\\n",
       "9   Emmanuel Fricain, Javad Mashreghi  Cambridge University Press   \n",
       "22                       Daniel Quinn                      Bantam   \n",
       "42                        Sarah Weeks                   Zondervan   \n",
       "65                        Adam Buxton              Harper Collins   \n",
       "83                        Sarah Weeks              Harper Collins   \n",
       "\n",
       "   PublishedDate           ISBN  PageCount                 Categories  \\\n",
       "9     2016-10-20  9781316351925        641                Mathematics   \n",
       "22    2010-01-13  9780307575234        350                    Fiction   \n",
       "42    2009-10-20  9780061978777        276           Juvenile Fiction   \n",
       "65    2020-09-03  9780008293352        348  Biography & Autobiography   \n",
       "83    2009-10-20  9780061978791        196           Juvenile Fiction   \n",
       "\n",
       "    AverageRating  RatingsCount Language  TitleWordCount  \n",
       "9             5.0             1       en               7  \n",
       "22            4.5            16       en               4  \n",
       "42            2.0             3       en               3  \n",
       "65            5.0             1       en              11  \n",
       "83            5.0             1       en               3  "
      ]
     },
     "execution_count": 40,
     "metadata": {},
     "output_type": "execute_result"
    }
   ],
   "source": [
    "combined_df.head()"
   ]
  },
  {
   "cell_type": "code",
   "execution_count": 41,
   "metadata": {},
   "outputs": [],
   "source": [
    "# combined_df.to_csv('combined_books.csv', index=False)"
   ]
  }
 ],
 "metadata": {
  "kernelspec": {
   "display_name": "Python 3",
   "language": "python",
   "name": "python3"
  },
  "language_info": {
   "codemirror_mode": {
    "name": "ipython",
    "version": 3
   },
   "file_extension": ".py",
   "mimetype": "text/x-python",
   "name": "python",
   "nbconvert_exporter": "python",
   "pygments_lexer": "ipython3",
   "version": "3.11.7"
  }
 },
 "nbformat": 4,
 "nbformat_minor": 2
}
