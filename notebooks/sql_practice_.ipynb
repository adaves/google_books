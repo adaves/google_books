{
 "cells": [
  {
   "cell_type": "code",
   "execution_count": 1,
   "metadata": {},
   "outputs": [],
   "source": [
    "from sqlalchemy import create_engine\n",
    "import pandas as pd\n",
    "import os\n",
    "import psycopg2"
   ]
  },
  {
   "cell_type": "code",
   "execution_count": 2,
   "metadata": {},
   "outputs": [
    {
     "data": {
      "text/plain": [
       "True"
      ]
     },
     "execution_count": 2,
     "metadata": {},
     "output_type": "execute_result"
    }
   ],
   "source": [
    "from dotenv import load_dotenv\n",
    "\n",
    "# Load environment variables\n",
    "load_dotenv()"
   ]
  },
  {
   "cell_type": "code",
   "execution_count": 3,
   "metadata": {},
   "outputs": [],
   "source": [
    "host = os.getenv(\"DB_HOST\")\n",
    "port = os.getenv(\"DB_PORT\")\n",
    "database = os.getenv(\"DB_NAME\")\n",
    "user = os.getenv(\"DB_USER\")\n",
    "password = os.getenv(\"DB_PASSWORD\")\n",
    "\n",
    "# Database connection string\n",
    "connection_string = f\"postgresql://{user}:{password}@{host}:{port}/{database}\"\n"
   ]
  },
  {
   "cell_type": "code",
   "execution_count": 4,
   "metadata": {},
   "outputs": [
    {
     "name": "stdout",
     "output_type": "stream",
     "text": [
      "Host: localhost, Port: 5432, Database: google_books_db, User: postgres, Password: 8750\n"
     ]
    }
   ],
   "source": [
    "# run this to check values of environment variables\n",
    "# print(f\"Host: {host}, Port: {port}, Database: {database}, User: {user}, Password: {password}\")\n"
   ]
  },
  {
   "cell_type": "code",
   "execution_count": 6,
   "metadata": {},
   "outputs": [
    {
     "name": "stdout",
     "output_type": "stream",
     "text": [
      "Connection successful!\n",
      "                                               title  \\\n",
      "0                The Theory of H(b) Spaces: Volume 2   \n",
      "1                                     The Story of B   \n",
      "2                                           So B. It   \n",
      "3  Ramble Book: Musings on Childhood, Friendship,...   \n",
      "4                                Jumping the Scratch   \n",
      "\n",
      "                                authors                   publisher  \\\n",
      "0  Emmanuel Fricain and Javad Mashreghi  Cambridge University Press   \n",
      "1                          Daniel Quinn                      Bantam   \n",
      "2                           Sarah Weeks                   Zondervan   \n",
      "3                           Adam Buxton            HarperCollins UK   \n",
      "4                           Sarah Weeks              Harper Collins   \n",
      "\n",
      "  published_date             isbn  page_count                 categories  \\\n",
      "0     2016-10-20  9781316351925.0         641                Mathematics   \n",
      "1     2010-01-13  9780307575234.0         350                    Fiction   \n",
      "2     2009-10-20  9780061978777.0         276           Juvenile Fiction   \n",
      "3     2020-09-03  9780008293352.0         348  Biography & Autobiography   \n",
      "4     2009-10-20  9780061978791.0         196           Juvenile Fiction   \n",
      "\n",
      "   average_rating  rating_count language  title_word_count  \n",
      "0             5.0             1       en                 7  \n",
      "1             4.5            16       en                 4  \n",
      "2             2.0             3       en                 3  \n",
      "3             5.0             1       en                11  \n",
      "4             5.0             1       en                 3  \n"
     ]
    }
   ],
   "source": [
    "# Create engine\n",
    "try:\n",
    "    engine = create_engine(connection_string)\n",
    "    print(\"Connection successful!\")\n",
    "except Exception as e:\n",
    "    print(f\"Error creating engine: {e}\")\n",
    "\n",
    "# Query the database and load results into a DataFrame\n",
    "query = \"SELECT * FROM google_books_table;\"\n",
    "try:\n",
    "    df = pd.read_sql(query, engine)\n",
    "    print(df.head())  # Display first 5 rows of the result\n",
    "except Exception as e:\n",
    "    print(f\"Error executing query: {e}\")"
   ]
  },
  {
   "cell_type": "code",
   "execution_count": 8,
   "metadata": {},
   "outputs": [
    {
     "data": {
      "text/plain": [
       "(                                               title  \\\n",
       " 0                The Theory of H(b) Spaces: Volume 2   \n",
       " 1                                     The Story of B   \n",
       " 2                                           So B. It   \n",
       " 3  Ramble Book: Musings on Childhood, Friendship,...   \n",
       " 4                                Jumping the Scratch   \n",
       " \n",
       "                                 authors                   publisher  \\\n",
       " 0  Emmanuel Fricain and Javad Mashreghi  Cambridge University Press   \n",
       " 1                          Daniel Quinn                      Bantam   \n",
       " 2                           Sarah Weeks                   Zondervan   \n",
       " 3                           Adam Buxton            HarperCollins UK   \n",
       " 4                           Sarah Weeks              Harper Collins   \n",
       " \n",
       "   published_date             isbn  page_count                 categories  \\\n",
       " 0     2016-10-20  9781316351925.0         641                Mathematics   \n",
       " 1     2010-01-13  9780307575234.0         350                    Fiction   \n",
       " 2     2009-10-20  9780061978777.0         276           Juvenile Fiction   \n",
       " 3     2020-09-03  9780008293352.0         348  Biography & Autobiography   \n",
       " 4     2009-10-20  9780061978791.0         196           Juvenile Fiction   \n",
       " \n",
       "    average_rating  rating_count language  title_word_count  \n",
       " 0             5.0             1       en                 7  \n",
       " 1             4.5            16       en                 4  \n",
       " 2             2.0             3       en                 3  \n",
       " 3             5.0             1       en                11  \n",
       " 4             5.0             1       en                 3  ,\n",
       " (22753, 11))"
      ]
     },
     "execution_count": 8,
     "metadata": {},
     "output_type": "execute_result"
    }
   ],
   "source": [
    "df.head(), df.shape"
   ]
  }
 ],
 "metadata": {
  "kernelspec": {
   "display_name": "Python 3",
   "language": "python",
   "name": "python3"
  },
  "language_info": {
   "codemirror_mode": {
    "name": "ipython",
    "version": 3
   },
   "file_extension": ".py",
   "mimetype": "text/x-python",
   "name": "python",
   "nbconvert_exporter": "python",
   "pygments_lexer": "ipython3",
   "version": "3.11.7"
  }
 },
 "nbformat": 4,
 "nbformat_minor": 2
}
